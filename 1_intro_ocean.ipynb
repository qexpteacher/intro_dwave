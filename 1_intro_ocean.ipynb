{
  "cells": [
    {
      "cell_type": "markdown",
      "metadata": {
        "id": "NU5zChFhduPF"
      },
      "source": [
        "**INTRODUCCION A LA PROGRAMACION CUANTICA**\n",
        "-------------------------------------------------------\n",
        "Prof: Carmen Pellicer Lostao</br>\n",
        "[Linkedin](https://www.linkedin.com/in/cpellicerlostao/)</br>\n",
        "[email](cpellicerlostao@gmail.com)"
      ]
    },
    {
      "cell_type": "markdown",
      "metadata": {
        "id": "e7XfoKUelvsk"
      },
      "source": [
        "# D-WAVE OCEAN"
      ]
    },
    {
      "cell_type": "markdown",
      "metadata": {
        "id": "uGH4o3b0duPS"
      },
      "source": [
        "## Intro"
      ]
    },
    {
      "cell_type": "markdown",
      "metadata": {
        "id": "vHcWX7wzduPT"
      },
      "source": [
        "Lea los documentos para obtener más información: https://docs.ocean.dwavesys.com/en/stable/getting_started.html\n",
        "\n",
        "**¿Nuevo en Jupyter Notebooks?** Los JN se dividen en celdas de texto o código. Al presionar el botón **Ejecutar** en la barra de menú se pasa a la siguiente celda. Las celdas de código están marcadas con \"En: \\[\\]\" a la izquierda; cuando se ejecuta, se muestra un asterisco hasta que se completa el código: \"En: \\[\\*\\]\"."
      ]
    },
    {
      "cell_type": "markdown",
      "metadata": {
        "id": "oyGe__uKl0LB"
      },
      "source": [
        "## Instalación del SDK de Ocean"
      ]
    },
    {
      "cell_type": "markdown",
      "metadata": {},
      "source": [
        "D-Wave Ocean SDK (Ocean) es una colección de software que utiliza máquinas D-Wave. Es fácil utilizar varias funciones de Python.\n",
        "\n",
        "Github: https://github.com/dwavesystems/dwave-ocean-sdk\n",
        "\n",
        "Documento: https://docs.ocean.dwavesys.com/en/latest/\n",
        "\n",
        "Guía: https://docs.ocean.dwavesys.com/en/stable/overview/install.html\n",
        "\n",
        "Para instalar Ocean, use pip como se describe en el enlace anterior o clone el repositorio de github."
      ]
    },
    {
      "cell_type": "code",
      "execution_count": null,
      "metadata": {
        "id": "NImJ4NVpltwr"
      },
      "outputs": [],
      "source": [
        "%pip install dwave-ocean-sdk"
      ]
    },
    {
      "cell_type": "code",
      "execution_count": null,
      "metadata": {
        "id": "fcFla8bxy5--"
      },
      "outputs": [],
      "source": [
        "#Advanced users might directly install the latest (development) SDK from the D-Wave GitHub repository using a command such as,\n",
        "#%pip install git+https://github.com/dwavesystems/dwave-ocean-sdk"
      ]
    },
    {
      "cell_type": "code",
      "execution_count": null,
      "metadata": {
        "id": "J0NOfDmnAICj"
      },
      "outputs": [],
      "source": [
        "#Alternatively, you can clone the dwave-ocean-sdk repo and install the SDK to your virtual environment; for example:\n",
        "#%git clone https://github.com/dwavesystems/dwave-ocean-sdk.git\n",
        "#%cd dwave-ocean-sdk\n",
        "#%python setup.py install"
      ]
    },
    {
      "cell_type": "markdown",
      "metadata": {
        "id": "1Xj--YfoduPY"
      },
      "source": [
        "## Configuración del acceso a los SOLVERs de Leap"
      ]
    },
    {
      "cell_type": "markdown",
      "metadata": {
        "id": "ecnHfYZgduPZ"
      },
      "source": [
        "La **Solver API (SAPI)** de D-Wave proporciona acceso a los solucionadores (recursos informáticos para resolver problemas, como computadoras cuánticas D-Wave y solucionadores híbridos cuánticos clásicos) alojados en la nube cuántica de Leap.\n",
        "\n",
        "Necesita credenciales SAPI para acceder a estos recursos. Estas credenciales son **un token** que identifica su cuenta en Dwave."
      ]
    },
    {
      "cell_type": "markdown",
      "metadata": {
        "id": "3fjCDk0p0E0d"
      },
      "source": [
        "### Configuración del entorno de herramientas oceánicas"
      ]
    },
    {
      "cell_type": "markdown",
      "metadata": {
        "id": "j6BiRxr1zN41"
      },
      "source": [
        "El dwave-ocean-sdk incluye un **programa CLI** interactivo que lo guía a través de la configuración de un entorno virtual con todas las herramientas necesarias e interesantes para trabajar con los sistemas Dwave. (CLI significa interfaz de línea de comando)\n",
        "\n",
        "Para una experiencia de desarrollo completa y sencilla, se recomienda que antes de comenzar a escribir código, se complete la configuración de su entorno.\n",
        "\n",
        "También es recomendable que se incluyan los dos últimos pasos: instalar Contributor Ocean Tools y agregar **herramientas que no son de código abierto** como el **Problem Inspector**."
      ]
    },
    {
      "cell_type": "code",
      "execution_count": null,
      "metadata": {
        "colab": {
          "base_uri": "https://localhost:8080/"
        },
        "id": "c2-iby3ylvAq",
        "outputId": "ec02dcf1-012a-4e41-c0e7-a326c2e6efdd"
      },
      "outputs": [],
      "source": [
        "#Install optional non-open-source Ocean packages\n",
        "#see help for available commands and then run the install\n",
        "!dwave install --help"
      ]
    },
    {
      "cell_type": "code",
      "execution_count": null,
      "metadata": {
        "colab": {
          "base_uri": "https://localhost:8080/"
        },
        "id": "rP-0NIV-0bA1",
        "outputId": "75618ddc-43c6-4de3-a458-758df53c52f3"
      },
      "outputs": [],
      "source": [
        "!dwave install"
      ]
    },
    {
      "cell_type": "markdown",
      "metadata": {
        "id": "2A4U9pdL03KU"
      },
      "source": [
        "En el entorno virtual que creó como parte de la instalación de Ocean Tools, ejecute el comando **dwave setup**. Una vez que el entorno esté configurado en la instalación, no necesitará incluir el token u otros parámetros de la cuenta en el código.\n",
        "\n",
        "La configuración crea un **archivo de configuración** que las primitivas de Ocean usarán automáticamente para incluir estos parámetros cuando use SAPI.\n",
        "\n",
        "Los nuevos usuarios pueden aceptar los valores predeterminados del comando de configuración de dwave (presione Enter) para todas las solicitudes excepto el token de autenticación, que se muestra en el panel de Leap de su cuenta. La sección Configuración del acceso a los solucionadores de Leap explica cómo puede actualizar la configuración de su entorno de trabajo en cualquier momento."
      ]
    },
    {
      "cell_type": "code",
      "execution_count": null,
      "metadata": {
        "id": "CeCr1G7Y04X9"
      },
      "outputs": [],
      "source": [
        "#run in terminal\n",
        "!dwave setup"
      ]
    },
    {
      "cell_type": "markdown",
      "metadata": {
        "id": "cgWYowoJduPg"
      },
      "source": [
        "#### Working with the config file\n",
        "\n",
        "To manage or change the environment configuration file at any time we use the `dwave config command` also available in the DWave CLI program"
      ]
    },
    {
      "cell_type": "code",
      "execution_count": null,
      "metadata": {
        "id": "_lSSV0HXduPh"
      },
      "outputs": [],
      "source": [
        "#see all command available\n",
        "!dwave config --help"
      ]
    },
    {
      "cell_type": "code",
      "execution_count": null,
      "metadata": {
        "id": "kH7y41QtduPh"
      },
      "outputs": [],
      "source": [
        "#inspect the config file\n",
        "!dwave config inspect"
      ]
    },
    {
      "cell_type": "markdown",
      "metadata": {
        "id": "_Z9sQ3fC30NN"
      },
      "source": [
        "Example: using dwave CLI to see the available solvers, their parameters, and properties."
      ]
    },
    {
      "cell_type": "code",
      "execution_count": null,
      "metadata": {
        "id": "R5sWZPsc1qkw"
      },
      "outputs": [],
      "source": [
        "#na-west-1 eu-central-1\n",
        "!dwave solvers  --list --all --region na-west-1"
      ]
    },
    {
      "cell_type": "markdown",
      "metadata": {
        "id": "ABVbaK4cduPl"
      },
      "source": [
        "#### Verify configuration of the virtual environment"
      ]
    },
    {
      "cell_type": "markdown",
      "metadata": {
        "id": "47dzuJEe8X6t"
      },
      "source": [
        "To Verify your configuration in the virtual environment, you can test that your solver access is configured correctly with the interactive CLI.\n",
        "\n",
        "In your virtual environment, run the dwave ping command"
      ]
    },
    {
      "cell_type": "code",
      "execution_count": null,
      "metadata": {
        "id": "TO3RF_jw8CSw"
      },
      "outputs": [],
      "source": [
        "!dwave ping --client qpu"
      ]
    },
    {
      "cell_type": "markdown",
      "metadata": {},
      "source": [
        "## Problemas de optimizacion"
      ]
    },
    {
      "cell_type": "markdown",
      "metadata": {},
      "source": [
        "### MINIMUN VERTEX COVER"
      ]
    },
    {
      "cell_type": "markdown",
      "metadata": {},
      "source": [
        "Se pueden formular muchos problemas de optimizacion del mundo real como problemas de teoría de grafos. Algunos de estos son difíciles de resolver (considerados 'NP hard') y los algoritmos clasicos para resolverlos no escalar bien cuando el numero de nodos del grafo es alto. La computación cuántica podría proporcionar mejores soluciones. En este ejemplo, se trata el problema de encontrar la cobertura mínima de vértices en un grafo, que es un problema difícil que se puede resolver de forma sencilla en los sistemas cuanticos de D-Wave.\n",
        "\n",
        "El problema de cobertura mínima de vértices, que se puede formular como un objeto de la clase **BinaryQuadraticModel()** (BQM) y se puede resolver en las QPU de D-Wave con el SOlver cuántivo **DWaveSampler()**.\n",
        "\n",
        "Primero importamos las librerías **dwave** aunque no es necesario si también se importan en nuestro entorno virtual."
      ]
    },
    {
      "cell_type": "code",
      "execution_count": null,
      "metadata": {},
      "outputs": [],
      "source": [
        "# Importar el módulo networkx de Python para trabajar con grafos\n",
        "\n",
        "import networkx as nx\n",
        "import dwave_networkx as dnx\n",
        "import matplotlib.pyplot as plt\n",
        "\n",
        "# Importar librerías de Ocean para ejecutar contra QPU\n",
        "# y resolver el Grafo utilizando el qpu\n",
        "\n",
        "from dwave.system.samplers import DWaveSampler\n",
        "from dwave.system.composites import EmbeddingComposite\n",
        "\n"
      ]
    },
    {
      "cell_type": "markdown",
      "metadata": {},
      "source": [
        "Creamos un grafo, que definimos nosotros a nuesta conveniencia. El usuario puede definir otro que le resulte interesante explorar."
      ]
    },
    {
      "cell_type": "code",
      "execution_count": null,
      "metadata": {},
      "outputs": [],
      "source": [
        "#Crear un grafo de 6 nodos\n",
        "G=nx.Graph()\n",
        "G.add_nodes_from([\"1\",\"2\",\"3\",\"4\",\"5\",\"6\"])\n",
        "G.add_edge(\"1\",\"2\")\n",
        "G.add_edge(\"1\",\"3\")\n",
        "G.add_edge(\"2\",\"3\")\n",
        "G.add_edge(\"2\",\"4\")\n",
        "G.add_edge(\"3\",\"4\")\n",
        "G.add_edge(\"3\",\"5\")\n",
        "G.add_edge(\"4\",\"5\")\n",
        "G.add_edge(\"2\",\"6\")\n",
        "G.add_edge(\"4\",\"6\")\n",
        "\n",
        "# imprimimos los valores de nodos y aristas\n",
        "print('Nodos',G.nodes())\n",
        "print('Aristas', G.edges())\n",
        "\n",
        "# dibujamos el grafo\n",
        "#nx.draw(G,with_labels=True, node_size=1000, node_color='blue', edge_color='blue', font_color='white')\n",
        "nx.draw(G,with_labels=True, \n",
        "                         node_size=1000, \n",
        "                         node_color='blue', \n",
        "                         edge_color='blue',\n",
        "                         font_color='white')"
      ]
    },
    {
      "cell_type": "markdown",
      "metadata": {},
      "source": [
        "### Crear el objeto BQM"
      ]
    },
    {
      "cell_type": "markdown",
      "metadata": {},
      "source": [
        "Definimos una ecuación QUBO que expresa la funcion de optimización para este grafo en el problema de encontrar sus vertices de cobertura minima.\n",
        "\n",
        "Después utilizamos la clase **BinaryQuadraticModel()** para crear un BQM, el tipo de objeto que necesitams para poderlo enviar a la QPU y que resuelva nuestro problema de optimizacion."
      ]
    },
    {
      "cell_type": "code",
      "execution_count": null,
      "metadata": {},
      "outputs": [],
      "source": [
        "from dimod import BinaryQuadraticModel\n",
        "\n",
        "linear = {('q_1', 'q_1'): -3, ('q_2', 'q_2'): -7,('q_3', 'q_3'): -7,('q_4', 'q_4'): -7,('q_5', 'q_5'): -3,('q_6', 'q_6'): -3}\n",
        "quadratic = {('q_1', 'q_2'): 2,('q_1', 'q_3'): 2,('q_2', 'q_3'): 2,\n",
        "             ('q_2', 'q_6'): 2,('q_2', 'q_4'): 2,('q_4', 'q_6'): 2,\n",
        "             ('q_3', 'q_4'): 2,('q_3', 'q_5'): 2,('q_4', 'q_5'): 2\n",
        "             }\n",
        "\n",
        "Q = {**linear, **quadratic} #a Python dictionary comprehension that merges two dictionaries, linear and quadratic, into one. The resulting dictionary will contain all the key-value pairs from both linear and quadratic. If there are any keys that are common between the two dictionaries, the value from the quadratic dictionary will overwrite the value from the linear dictionary\n",
        "bqm = BinaryQuadraticModel.from_qubo(Q, 18.0 )   #Create BQM object with method from_qubo() setting an offset to 1\n",
        "\n",
        "#imprimimos el objeto BQM para ver su contenido\n",
        "print(bqm)"
      ]
    },
    {
      "cell_type": "markdown",
      "metadata": {},
      "source": [
        "### Enviar el BQM a la QPU"
      ]
    },
    {
      "cell_type": "markdown",
      "metadata": {},
      "source": [
        "Para resolver en la QPU definimos el objeto muestreador, que toma la clase DWaveSampler() utilizando embedding automático con la clase EmbeddingComposite(). De esta forma declaramos que vamos a usar un muestreador cuántico y que queremos que el mapeo de nuestro problema a la QPU lo haga automáticamente DWave, sin preocuparnos nosotros de ello.\n",
        "\n",
        "Podemos enviar nuestro problema a diferentes QPUs y probar como se resuelve en cada una de ellas. Probamos el Advantage con topologia Pegasus y Advantage2, con topología Zephyr."
      ]
    },
    {
      "cell_type": "code",
      "execution_count": null,
      "metadata": {},
      "outputs": [],
      "source": [
        "# Ejecutar contra la QPU\n",
        "#sampler = EmbeddingComposite(DWaveSampler()) #Advantage with topology Pegasus is the default\n",
        "\n",
        "sampler = EmbeddingComposite(DWaveSampler(solver=dict(topology__type=\"zephyr\"))) #uncomment this line to execute the code in Advantage2"
      ]
    },
    {
      "cell_type": "markdown",
      "metadata": {},
      "source": [
        "Cuando usamos un sampler del sistema dwave del software Ocean para resolver en un sistema D-Wave, además de DWaveSampler(), debemos usar EmbeddingComposite(), que asigna problemas no estructurados a la estructura gráfica del sampler seleccionado, un proceso conocido como minor Embedding: nuestro problema QUBO puede verse como un grafo que se mapea en el grafo de la topología de la QPU , donde se asignan a los qubits  y los valores de los bias y couplers que se utilizarán para resolver nuestro problema.\n",
        "\n",
        "Finalmente solo tenemos que ejecutar el muestreador para ejecutar nuestro problema de optimizacion en la QPU"
      ]
    },
    {
      "cell_type": "code",
      "execution_count": null,
      "metadata": {},
      "outputs": [],
      "source": [
        "#Muestreamos la nuestro grafo QUBO con el sampler cuantico de D-Wave\n",
        "sampleset = sampler.sample_qubo(Q, num_reads=5000, label='MIN VERTEX COVER (graph with six nodes)')"
      ]
    },
    {
      "cell_type": "markdown",
      "metadata": {},
      "source": [
        "### Inspeccionar los resultados"
      ]
    },
    {
      "cell_type": "markdown",
      "metadata": {},
      "source": [
        "Podemos imprimir el rancking de todos los resultados que han sido obtenidos, que estan ordenados por nivel minimo de Energia."
      ]
    },
    {
      "cell_type": "code",
      "execution_count": null,
      "metadata": {},
      "outputs": [],
      "source": [
        "print(sampleset)"
      ]
    },
    {
      "cell_type": "markdown",
      "metadata": {},
      "source": [
        "Podemos inspeccionar los resultados y como se ha mapeado el problema a bajo nivel en la QPU con la herramienta INPECTOR de D-Wave"
      ]
    },
    {
      "cell_type": "code",
      "execution_count": null,
      "metadata": {},
      "outputs": [],
      "source": [
        "import dwave.inspector\n",
        "\n",
        "# Inspect the problems sampleset\n",
        "dwave.inspector.show(sampleset)"
      ]
    },
    {
      "cell_type": "markdown",
      "metadata": {},
      "source": [
        "Podemos obtener el resultado optimo, de menor Energía y utilizarlo para visualizar en nuestro grafo, los nodos de covertura minima."
      ]
    },
    {
      "cell_type": "code",
      "execution_count": null,
      "metadata": {},
      "outputs": [],
      "source": [
        "#first sample with minimum energy\n",
        "minEnergy_sample=sampleset.samples()[0]\n",
        "minEnergy_sample"
      ]
    },
    {
      "cell_type": "code",
      "execution_count": null,
      "metadata": {},
      "outputs": [],
      "source": [
        "nx.draw(G,with_labels=True, \n",
        "                         node_size=1000, \n",
        "                         node_color=[v for (k,v) in minEnergy_sample.items()], \n",
        "                         edge_color='blue',\n",
        "                         font_color='white')"
      ]
    }
  ],
  "metadata": {
    "colab": {
      "provenance": []
    },
    "kernelspec": {
      "display_name": "Python 3 (ipykernel)",
      "language": "python",
      "name": "python3"
    },
    "language_info": {
      "codemirror_mode": {
        "name": "ipython",
        "version": 3
      },
      "file_extension": ".py",
      "mimetype": "text/x-python",
      "name": "python",
      "nbconvert_exporter": "python",
      "pygments_lexer": "ipython3",
      "version": "3.10.13"
    }
  },
  "nbformat": 4,
  "nbformat_minor": 0
}
